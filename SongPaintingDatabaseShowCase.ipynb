{
 "cells": [
  {
   "cell_type": "markdown",
   "metadata": {},
   "source": [
    "# Song Dynasty Paintings Database"
   ]
  },
  {
   "cell_type": "markdown",
   "metadata": {},
   "source": [
    "Last updated August 28th 2021"
   ]
  },
  {
   "cell_type": "markdown",
   "metadata": {},
   "source": [
    "## Total entries in the database"
   ]
  },
  {
   "cell_type": "code",
   "execution_count": 11,
   "metadata": {},
   "outputs": [
    {
     "name": "stdout",
     "output_type": "stream",
     "text": [
      "1463\n"
     ]
    }
   ],
   "source": [
    "import pandas as pd\n",
    "import matplotlib.pylab as plt\n",
    "\n",
    "csv_path=\"https://raw.githubusercontent.com/caomengge/Song-Dynasty-Paintings-Database/master/SongPaintingData_APR15.csv\"\n",
    "df=pd.read_csv(csv_path)"
   ]
  },
  {
   "cell_type": "markdown",
   "metadata": {},
   "source": [
    "## Database overview"
   ]
  },
  {
   "cell_type": "code",
   "execution_count": 43,
   "metadata": {},
   "outputs": [
    {
     "name": "stdout",
     "output_type": "stream",
     "text": [
      "ID                           int64\n",
      "Title                       object\n",
      "Dynasty                     object\n",
      "Artist                      object\n",
      "Format                      object\n",
      "Material                    object\n",
      "H                          float64\n",
      "W                          float64\n",
      "A                          float64\n",
      "Size                        object\n",
      "Institute                   object\n",
      "Nationality                 object\n",
      "Source                      object\n",
      "Note                        object\n",
      "Seals and Inscriptions      object\n",
      "Set                         object\n",
      "Tag1                        object\n",
      "Tag2                        object\n",
      "Tag3                        object\n",
      "Tag4                        object\n",
      "W-binned                  category\n",
      "dtype: object\n",
      "Total entries: 1463\n"
     ]
    },
    {
     "data": {
      "text/html": [
       "<div>\n",
       "<style scoped>\n",
       "    .dataframe tbody tr th:only-of-type {\n",
       "        vertical-align: middle;\n",
       "    }\n",
       "\n",
       "    .dataframe tbody tr th {\n",
       "        vertical-align: top;\n",
       "    }\n",
       "\n",
       "    .dataframe thead th {\n",
       "        text-align: right;\n",
       "    }\n",
       "</style>\n",
       "<table border=\"1\" class=\"dataframe\">\n",
       "  <thead>\n",
       "    <tr style=\"text-align: right;\">\n",
       "      <th></th>\n",
       "      <th>ID</th>\n",
       "      <th>Title</th>\n",
       "      <th>Dynasty</th>\n",
       "      <th>Artist</th>\n",
       "      <th>Format</th>\n",
       "      <th>Material</th>\n",
       "      <th>H</th>\n",
       "      <th>W</th>\n",
       "      <th>A</th>\n",
       "      <th>Size</th>\n",
       "      <th>...</th>\n",
       "      <th>Nationality</th>\n",
       "      <th>Source</th>\n",
       "      <th>Note</th>\n",
       "      <th>Seals and Inscriptions</th>\n",
       "      <th>Set</th>\n",
       "      <th>Tag1</th>\n",
       "      <th>Tag2</th>\n",
       "      <th>Tag3</th>\n",
       "      <th>Tag4</th>\n",
       "      <th>W-binned</th>\n",
       "    </tr>\n",
       "  </thead>\n",
       "  <tbody>\n",
       "    <tr>\n",
       "      <th>0</th>\n",
       "      <td>1</td>\n",
       "      <td>溪山行旅</td>\n",
       "      <td>SS2</td>\n",
       "      <td>傳 范寬</td>\n",
       "      <td>squarish 方幅</td>\n",
       "      <td>Silk 絹本</td>\n",
       "      <td>23.9</td>\n",
       "      <td>25.5</td>\n",
       "      <td>609.45</td>\n",
       "      <td>S</td>\n",
       "      <td>...</td>\n",
       "      <td>USA</td>\n",
       "      <td>Museum Website</td>\n",
       "      <td>NaN</td>\n",
       "      <td>NaN</td>\n",
       "      <td>NaN</td>\n",
       "      <td>landscape</td>\n",
       "      <td>NaN</td>\n",
       "      <td>figure</td>\n",
       "      <td>NaN</td>\n",
       "      <td>Small</td>\n",
       "    </tr>\n",
       "    <tr>\n",
       "      <th>1</th>\n",
       "      <td>2</td>\n",
       "      <td>瀟湘八景圖1</td>\n",
       "      <td>SS2</td>\n",
       "      <td>傳 王洪</td>\n",
       "      <td>handscroll 卷</td>\n",
       "      <td>Silk 絹本</td>\n",
       "      <td>23.4</td>\n",
       "      <td>90.7</td>\n",
       "      <td>2122.38</td>\n",
       "      <td>M</td>\n",
       "      <td>...</td>\n",
       "      <td>USA</td>\n",
       "      <td>宋畫全集第六卷第六冊</td>\n",
       "      <td>NaN</td>\n",
       "      <td>NaN</td>\n",
       "      <td>瀟湘八景圖四段</td>\n",
       "      <td>NaN</td>\n",
       "      <td>NaN</td>\n",
       "      <td>NaN</td>\n",
       "      <td>NaN</td>\n",
       "      <td>Medium</td>\n",
       "    </tr>\n",
       "    <tr>\n",
       "      <th>2</th>\n",
       "      <td>3</td>\n",
       "      <td>瀟湘八景圖2</td>\n",
       "      <td>SS2</td>\n",
       "      <td>傳 王洪</td>\n",
       "      <td>handscroll 卷</td>\n",
       "      <td>Silk 絹本</td>\n",
       "      <td>23.4</td>\n",
       "      <td>90.7</td>\n",
       "      <td>2122.38</td>\n",
       "      <td>M</td>\n",
       "      <td>...</td>\n",
       "      <td>USA</td>\n",
       "      <td>宋畫全集第六卷第六冊</td>\n",
       "      <td>NaN</td>\n",
       "      <td>NaN</td>\n",
       "      <td>瀟湘八景圖四段</td>\n",
       "      <td>NaN</td>\n",
       "      <td>NaN</td>\n",
       "      <td>NaN</td>\n",
       "      <td>NaN</td>\n",
       "      <td>Medium</td>\n",
       "    </tr>\n",
       "    <tr>\n",
       "      <th>3</th>\n",
       "      <td>4</td>\n",
       "      <td>瀟湘八景圖3</td>\n",
       "      <td>SS2</td>\n",
       "      <td>傳 王洪</td>\n",
       "      <td>handscroll 卷</td>\n",
       "      <td>Silk 絹本</td>\n",
       "      <td>23.4</td>\n",
       "      <td>90.7</td>\n",
       "      <td>2122.38</td>\n",
       "      <td>M</td>\n",
       "      <td>...</td>\n",
       "      <td>USA</td>\n",
       "      <td>宋畫全集第六卷第六冊</td>\n",
       "      <td>NaN</td>\n",
       "      <td>NaN</td>\n",
       "      <td>瀟湘八景圖四段</td>\n",
       "      <td>NaN</td>\n",
       "      <td>NaN</td>\n",
       "      <td>NaN</td>\n",
       "      <td>NaN</td>\n",
       "      <td>Medium</td>\n",
       "    </tr>\n",
       "    <tr>\n",
       "      <th>4</th>\n",
       "      <td>5</td>\n",
       "      <td>瀟湘八景圖4</td>\n",
       "      <td>SS2</td>\n",
       "      <td>傳 王洪</td>\n",
       "      <td>handscroll 卷</td>\n",
       "      <td>Silk 絹本</td>\n",
       "      <td>23.4</td>\n",
       "      <td>90.7</td>\n",
       "      <td>2122.38</td>\n",
       "      <td>M</td>\n",
       "      <td>...</td>\n",
       "      <td>USA</td>\n",
       "      <td>宋畫全集第六卷第六冊</td>\n",
       "      <td>NaN</td>\n",
       "      <td>NaN</td>\n",
       "      <td>瀟湘八景圖四段</td>\n",
       "      <td>NaN</td>\n",
       "      <td>NaN</td>\n",
       "      <td>NaN</td>\n",
       "      <td>NaN</td>\n",
       "      <td>Medium</td>\n",
       "    </tr>\n",
       "  </tbody>\n",
       "</table>\n",
       "<p>5 rows × 21 columns</p>\n",
       "</div>"
      ],
      "text/plain": [
       "   ID   Title Dynasty Artist        Format Material     H     W        A Size  \\\n",
       "0   1    溪山行旅     SS2   傳 范寬   squarish 方幅  Silk 絹本  23.9  25.5   609.45    S   \n",
       "1   2  瀟湘八景圖1     SS2   傳 王洪  handscroll 卷  Silk 絹本  23.4  90.7  2122.38    M   \n",
       "2   3  瀟湘八景圖2     SS2   傳 王洪  handscroll 卷  Silk 絹本  23.4  90.7  2122.38    M   \n",
       "3   4  瀟湘八景圖3     SS2   傳 王洪  handscroll 卷  Silk 絹本  23.4  90.7  2122.38    M   \n",
       "4   5  瀟湘八景圖4     SS2   傳 王洪  handscroll 卷  Silk 絹本  23.4  90.7  2122.38    M   \n",
       "\n",
       "   ... Nationality          Source Note Seals and Inscriptions      Set  \\\n",
       "0  ...         USA  Museum Website  NaN                    NaN      NaN   \n",
       "1  ...         USA      宋畫全集第六卷第六冊  NaN                    NaN  瀟湘八景圖四段   \n",
       "2  ...         USA      宋畫全集第六卷第六冊  NaN                    NaN  瀟湘八景圖四段   \n",
       "3  ...         USA      宋畫全集第六卷第六冊  NaN                    NaN  瀟湘八景圖四段   \n",
       "4  ...         USA      宋畫全集第六卷第六冊  NaN                    NaN  瀟湘八景圖四段   \n",
       "\n",
       "        Tag1 Tag2    Tag3 Tag4 W-binned  \n",
       "0  landscape  NaN  figure  NaN    Small  \n",
       "1        NaN  NaN     NaN  NaN   Medium  \n",
       "2        NaN  NaN     NaN  NaN   Medium  \n",
       "3        NaN  NaN     NaN  NaN   Medium  \n",
       "4        NaN  NaN     NaN  NaN   Medium  \n",
       "\n",
       "[5 rows x 21 columns]"
      ]
     },
     "execution_count": 43,
     "metadata": {},
     "output_type": "execute_result"
    }
   ],
   "source": [
    "print(df.dtypes)\n",
    "print(\"Total entries:\", len(df))\n",
    "df.head(5)"
   ]
  },
  {
   "cell_type": "markdown",
   "metadata": {},
   "source": [
    "## Distribution of Painting Area"
   ]
  },
  {
   "cell_type": "code",
   "execution_count": 17,
   "metadata": {},
   "outputs": [
    {
     "data": {
      "text/plain": [
       "Text(0.5, 1.0, 'Distribution of Painting Area')"
      ]
     },
     "execution_count": 17,
     "metadata": {},
     "output_type": "execute_result"
    },
    {
     "data": {
      "image/png": "[encoded data removed]",
      "text/plain": [
       "<Figure size 432x288 with 1 Axes>"
      ]
     },
     "metadata": {
      "needs_background": "light"
     },
     "output_type": "display_data"
    }
   ],
   "source": [
    "%matplotlib inline\n",
    "import matplotlib as plt\n",
    "from matplotlib import pyplot\n",
    "plt.pyplot.hist(df[\"A\"])\n",
    "\n",
    "# set x/y labels and plot title\n",
    "plt.pyplot.xlabel(\"Area (in squrecentimeters)\")\n",
    "plt.pyplot.ylabel(\"Count\")\n",
    "plt.pyplot.title(\"Distribution of Painting Area\")"
   ]
  },
  {
   "cell_type": "markdown",
   "metadata": {},
   "source": [
    "## Display paintings with both width and height under 55 cm."
   ]
  },
  {
   "cell_type": "code",
   "execution_count": 47,
   "metadata": {
    "scrolled": true
   },
   "outputs": [
    {
     "name": "stdout",
     "output_type": "stream",
     "text": [
      "                              Title     W     H\n",
      "0                              溪山行旅  25.5  23.9\n",
      "6                               寒塘圖  25.7  24.6\n",
      "10    Mountain Terrace and Pavilion  24.6  24.6\n",
      "11                     Winter Scene  24.0  24.0\n",
      "12                              戲猿圖  26.5  24.8\n",
      "...                             ...   ...   ...\n",
      "1450                           楊柳乳雀  24.8  24.8\n",
      "1451                             梅雀  29.0  25.5\n",
      "1452                           竹樹馴雀  24.8  24.8\n",
      "1453                           山茶宿鳥  25.6  24.3\n",
      "1462                           嫩柳栖鴉  25.4  24.3\n",
      "\n",
      "[693 rows x 3 columns]\n"
     ]
    }
   ],
   "source": [
    "df2 = df[df['W'].between (0, 55, inclusive=False)] \n",
    "df3 = df2[df2['H'].between(0,55, inclusive=False)]\n",
    "print (df3[['Title','W','H']])"
   ]
  },
  {
   "cell_type": "markdown",
   "metadata": {},
   "source": [
    "## Binning Painting Sizes based on Width"
   ]
  },
  {
   "cell_type": "code",
   "execution_count": 35,
   "metadata": {},
   "outputs": [
    {
     "data": {
      "text/html": [
       "<div>\n",
       "<style scoped>\n",
       "    .dataframe tbody tr th:only-of-type {\n",
       "        vertical-align: middle;\n",
       "    }\n",
       "\n",
       "    .dataframe tbody tr th {\n",
       "        vertical-align: top;\n",
       "    }\n",
       "\n",
       "    .dataframe thead th {\n",
       "        text-align: right;\n",
       "    }\n",
       "</style>\n",
       "<table border=\"1\" class=\"dataframe\">\n",
       "  <thead>\n",
       "    <tr style=\"text-align: right;\">\n",
       "      <th></th>\n",
       "      <th>Title</th>\n",
       "      <th>W</th>\n",
       "      <th>W-binned</th>\n",
       "    </tr>\n",
       "  </thead>\n",
       "  <tbody>\n",
       "    <tr>\n",
       "      <th>0</th>\n",
       "      <td>溪山行旅</td>\n",
       "      <td>25.5</td>\n",
       "      <td>Small</td>\n",
       "    </tr>\n",
       "    <tr>\n",
       "      <th>1</th>\n",
       "      <td>瀟湘八景圖1</td>\n",
       "      <td>90.7</td>\n",
       "      <td>Medium</td>\n",
       "    </tr>\n",
       "    <tr>\n",
       "      <th>2</th>\n",
       "      <td>瀟湘八景圖2</td>\n",
       "      <td>90.7</td>\n",
       "      <td>Medium</td>\n",
       "    </tr>\n",
       "    <tr>\n",
       "      <th>3</th>\n",
       "      <td>瀟湘八景圖3</td>\n",
       "      <td>90.7</td>\n",
       "      <td>Medium</td>\n",
       "    </tr>\n",
       "    <tr>\n",
       "      <th>4</th>\n",
       "      <td>瀟湘八景圖4</td>\n",
       "      <td>90.7</td>\n",
       "      <td>Medium</td>\n",
       "    </tr>\n",
       "    <tr>\n",
       "      <th>5</th>\n",
       "      <td>山水圖</td>\n",
       "      <td>48.4</td>\n",
       "      <td>Small</td>\n",
       "    </tr>\n",
       "    <tr>\n",
       "      <th>6</th>\n",
       "      <td>寒塘圖</td>\n",
       "      <td>25.7</td>\n",
       "      <td>Small</td>\n",
       "    </tr>\n",
       "    <tr>\n",
       "      <th>7</th>\n",
       "      <td>仿周文矩 宮中圖</td>\n",
       "      <td>177.0</td>\n",
       "      <td>Large</td>\n",
       "    </tr>\n",
       "    <tr>\n",
       "      <th>8</th>\n",
       "      <td>山水舟遊</td>\n",
       "      <td>85.2</td>\n",
       "      <td>Medium</td>\n",
       "    </tr>\n",
       "    <tr>\n",
       "      <th>9</th>\n",
       "      <td>陳風圖</td>\n",
       "      <td>739.0</td>\n",
       "      <td>Extra-Large/Long</td>\n",
       "    </tr>\n",
       "    <tr>\n",
       "      <th>10</th>\n",
       "      <td>Mountain Terrace and Pavilion</td>\n",
       "      <td>24.6</td>\n",
       "      <td>Small</td>\n",
       "    </tr>\n",
       "    <tr>\n",
       "      <th>11</th>\n",
       "      <td>Winter Scene</td>\n",
       "      <td>24.0</td>\n",
       "      <td>Small</td>\n",
       "    </tr>\n",
       "    <tr>\n",
       "      <th>12</th>\n",
       "      <td>戲猿圖</td>\n",
       "      <td>26.5</td>\n",
       "      <td>Small</td>\n",
       "    </tr>\n",
       "    <tr>\n",
       "      <th>13</th>\n",
       "      <td>親蠶圖</td>\n",
       "      <td>92.3</td>\n",
       "      <td>Medium</td>\n",
       "    </tr>\n",
       "    <tr>\n",
       "      <th>14</th>\n",
       "      <td>秋蘆飛鶩</td>\n",
       "      <td>22.9</td>\n",
       "      <td>Small</td>\n",
       "    </tr>\n",
       "    <tr>\n",
       "      <th>15</th>\n",
       "      <td>蹴鞠圖</td>\n",
       "      <td>55.3</td>\n",
       "      <td>Medium</td>\n",
       "    </tr>\n",
       "    <tr>\n",
       "      <th>16</th>\n",
       "      <td>松溪觀鹿圖</td>\n",
       "      <td>25.8</td>\n",
       "      <td>Small</td>\n",
       "    </tr>\n",
       "    <tr>\n",
       "      <th>17</th>\n",
       "      <td>舉杯邀月</td>\n",
       "      <td>24.9</td>\n",
       "      <td>Small</td>\n",
       "    </tr>\n",
       "    <tr>\n",
       "      <th>18</th>\n",
       "      <td>竹溪試浴</td>\n",
       "      <td>37.0</td>\n",
       "      <td>Small</td>\n",
       "    </tr>\n",
       "    <tr>\n",
       "      <th>19</th>\n",
       "      <td>宮苑圖</td>\n",
       "      <td>31.6</td>\n",
       "      <td>Small</td>\n",
       "    </tr>\n",
       "  </tbody>\n",
       "</table>\n",
       "</div>"
      ],
      "text/plain": [
       "                            Title      W          W-binned\n",
       "0                            溪山行旅   25.5             Small\n",
       "1                          瀟湘八景圖1   90.7            Medium\n",
       "2                          瀟湘八景圖2   90.7            Medium\n",
       "3                          瀟湘八景圖3   90.7            Medium\n",
       "4                          瀟湘八景圖4   90.7            Medium\n",
       "5                             山水圖   48.4             Small\n",
       "6                             寒塘圖   25.7             Small\n",
       "7                        仿周文矩 宮中圖  177.0             Large\n",
       "8                            山水舟遊   85.2            Medium\n",
       "9                             陳風圖  739.0  Extra-Large/Long\n",
       "10  Mountain Terrace and Pavilion   24.6             Small\n",
       "11                   Winter Scene   24.0             Small\n",
       "12                            戲猿圖   26.5             Small\n",
       "13                            親蠶圖   92.3            Medium\n",
       "14                           秋蘆飛鶩   22.9             Small\n",
       "15                            蹴鞠圖   55.3            Medium\n",
       "16                          松溪觀鹿圖   25.8             Small\n",
       "17                           舉杯邀月   24.9             Small\n",
       "18                           竹溪試浴   37.0             Small\n",
       "19                            宮苑圖   31.6             Small"
      ]
     },
     "execution_count": 35,
     "metadata": {},
     "output_type": "execute_result"
    }
   ],
   "source": [
    "# 55 cm is one standardized silk-width\n",
    "\n",
    "bins = (min(df['W']),55, 110, 220, max(df['W'])) \n",
    "group_names = ['Small', 'Medium', 'Large', 'Extra-Large/Long']\n",
    "df['W-binned'] = pd.cut(df['W'], bins, labels=group_names, include_lowest=True )\n",
    "df[['Title','W','W-binned']].head(20)"
   ]
  },
  {
   "cell_type": "markdown",
   "metadata": {},
   "source": [
    "## Distribution of Paintings by Sizes"
   ]
  },
  {
   "cell_type": "code",
   "execution_count": 36,
   "metadata": {},
   "outputs": [
    {
     "data": {
      "text/plain": [
       "Small               966\n",
       "Medium              190\n",
       "Extra-Large/Long     95\n",
       "Large                90\n",
       "Name: W-binned, dtype: int64"
      ]
     },
     "execution_count": 36,
     "metadata": {},
     "output_type": "execute_result"
    }
   ],
   "source": [
    "df[\"W-binned\"].value_counts()"
   ]
  },
  {
   "cell_type": "code",
   "execution_count": 37,
   "metadata": {},
   "outputs": [
    {
     "data": {
      "text/plain": [
       "Text(0.5, 1.0, 'Painting Width bins')"
      ]
     },
     "execution_count": 37,
     "metadata": {},
     "output_type": "execute_result"
    },
    {
     "data": {
      "image/png": "[encoded data removed]",
      "text/plain": [
       "<Figure size 432x288 with 1 Axes>"
      ]
     },
     "metadata": {
      "needs_background": "light"
     },
     "output_type": "display_data"
    }
   ],
   "source": [
    "%matplotlib inline\n",
    "import matplotlib as plt\n",
    "from matplotlib import pyplot\n",
    "pyplot.bar(group_names, df[\"W-binned\"].value_counts())\n",
    "\n",
    "# set x/y labels and plot title\n",
    "plt.pyplot.xlabel(\"Painting Sizes\")\n",
    "plt.pyplot.ylabel(\"count\")\n",
    "plt.pyplot.title(\"Painting Width bins\")"
   ]
  },
  {
   "cell_type": "markdown",
   "metadata": {},
   "source": [
    "## Approximate Date Tags"
   ]
  },
  {
   "cell_type": "code",
   "execution_count": 45,
   "metadata": {},
   "outputs": [
    {
     "data": {
      "text/plain": [
       "SS2    382\n",
       "SS1    302\n",
       "SS0    171\n",
       "NS1     58\n",
       "NS2     55\n",
       "Y        7\n",
       "SS       5\n",
       "NS0      4\n",
       "NS       2\n",
       "Ss2      1\n",
       "Name: Dynasty, dtype: int64"
      ]
     },
     "execution_count": 45,
     "metadata": {},
     "output_type": "execute_result"
    }
   ],
   "source": [
    "df['Dynasty'].value_counts()"
   ]
  },
  {
   "cell_type": "code",
   "execution_count": null,
   "metadata": {},
   "outputs": [],
   "source": []
  }
 ],
 "metadata": {
  "kernelspec": {
   "display_name": "Python 3",
   "language": "python",
   "name": "python3"
  },
  "language_info": {
   "codemirror_mode": {
    "name": "ipython",
    "version": 3
   },
   "file_extension": ".py",
   "mimetype": "text/x-python",
   "name": "python",
   "nbconvert_exporter": "python",
   "pygments_lexer": "ipython3",
   "version": "3.8.8"
  }
 },
 "nbformat": 4,
 "nbformat_minor": 4
}
