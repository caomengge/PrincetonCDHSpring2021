{
 "cells": [
  {
   "cell_type": "markdown",
   "metadata": {},
   "source": [
    "## Song Paintings Database"
   ]
  },
  {
   "cell_type": "markdown",
   "metadata": {},
   "source": [
    "**Database Overview**"
   ]
  },
  {
   "cell_type": "markdown",
   "metadata": {},
   "source": [
    "Total number of entries in the database"
   ]
  },
  {
   "cell_type": "code",
   "execution_count": 31,
   "metadata": {},
   "outputs": [
    {
     "name": "stdout",
     "output_type": "stream",
     "text": [
      "1463\n"
     ]
    }
   ],
   "source": [
    "import pandas as pd\n",
    "import matplotlib.pyplot as plt\n",
    "\n",
    "csv_path='SongPaintingData_APR15.csv'\n",
    "df=pd.read_csv(csv_path)\n",
    "print(len(paintings))"
   ]
  },
  {
   "cell_type": "markdown",
   "metadata": {},
   "source": [
    "Display first 10 rolls of the database"
   ]
  },
  {
   "cell_type": "code",
   "execution_count": 32,
   "metadata": {},
   "outputs": [
    {
     "name": "stdout",
     "output_type": "stream",
     "text": [
      "   ID     Title Dynasty Artist            Format Material      H      W  \\\n",
      "0   1      溪山行旅     SS2   傳 范寬       squarish 方幅  Silk 絹本   23.9   25.5   \n",
      "1   2    瀟湘八景圖1     SS2   傳 王洪      handscroll 卷  Silk 絹本   23.4   90.7   \n",
      "2   3    瀟湘八景圖2     SS2   傳 王洪      handscroll 卷  Silk 絹本   23.4   90.7   \n",
      "3   4    瀟湘八景圖3     SS2   傳 王洪      handscroll 卷  Silk 絹本   23.4   90.7   \n",
      "4   5    瀟湘八景圖4     SS2   傳 王洪      handscroll 卷  Silk 絹本   23.4   90.7   \n",
      "5   6       山水圖     NS2    李公年  hanging scroll 軸  Silk 絹本  130.0   48.4   \n",
      "6   7       寒塘圖     SS2     梁楷       squarish 方幅  Silk 絹本   24.6   25.7   \n",
      "7   8  仿周文矩 宮中圖     NaN     佚名      handscroll 卷  Silk 絹本   25.7  177.0   \n",
      "8   9      山水舟遊     SS2   傳　馬遠  hanging scroll 軸  Silk 絹本  172.5   85.2   \n",
      "9  10       陳風圖     SS2  傳　馬和之      handscroll 卷  Silk 絹本   26.7  739.0   \n",
      "\n",
      "          A Size                                          Institute  \\\n",
      "0    609.45    S              Art Museum, Princeton University, USA   \n",
      "1   2122.38    M              Art Museum, Princeton University, USA   \n",
      "2   2122.38    M              Art Museum, Princeton University, USA   \n",
      "3   2122.38    M              Art Museum, Princeton University, USA   \n",
      "4   2122.38    M              Art Museum, Princeton University, USA   \n",
      "5   6292.00    L              Art Museum, Princeton University, USA   \n",
      "6    632.22    S  Arthur M. Sackler Museum / Harvard University ...   \n",
      "7   4548.90    L  Arthur M. Sackler Museum / Harvard University ...   \n",
      "8  14697.00    L                                 British Museum, GB   \n",
      "9  19731.30   XL                                 British Museum, GB   \n",
      "\n",
      "  Nationality          Source Note Seals and Inscriptions      Set       Tag1  \\\n",
      "0         USA  Museum Website  NaN                    NaN      NaN  landscape   \n",
      "1         USA      宋畫全集第六卷第六冊  NaN                    NaN  瀟湘八景圖四段        NaN   \n",
      "2         USA      宋畫全集第六卷第六冊  NaN                    NaN  瀟湘八景圖四段        NaN   \n",
      "3         USA      宋畫全集第六卷第六冊  NaN                    NaN  瀟湘八景圖四段        NaN   \n",
      "4         USA      宋畫全集第六卷第六冊  NaN                    NaN  瀟湘八景圖四段        NaN   \n",
      "5         USA      宋畫全集第六卷第六冊  NaN                    NaN      NaN        NaN   \n",
      "6         USA      宋畫全集第六卷第六冊  NaN                    NaN      NaN  landscape   \n",
      "7         USA      宋畫全集第六卷第六冊  NaN                    NaN      NaN        NaN   \n",
      "8          EU      宋畫全集第六卷第六冊  NaN                    NaN      NaN        NaN   \n",
      "9          EU      宋畫全集第六卷第六冊  NaN                    NaN      NaN        NaN   \n",
      "\n",
      "  Tag2    Tag3 Tag4  \n",
      "0  NaN  figure  NaN  \n",
      "1  NaN     NaN  NaN  \n",
      "2  NaN     NaN  NaN  \n",
      "3  NaN     NaN  NaN  \n",
      "4  NaN     NaN  NaN  \n",
      "5  NaN     NaN  NaN  \n",
      "6  NaN     NaN  NaN  \n",
      "7  NaN     NaN  NaN  \n",
      "8  NaN     NaN  NaN  \n",
      "9  NaN     NaN  NaN  \n"
     ]
    }
   ],
   "source": [
    "print(df.head(10))"
   ]
  },
  {
   "cell_type": "code",
   "execution_count": 33,
   "metadata": {},
   "outputs": [
    {
     "data": {
      "text/plain": [
       "(array([1.012e+03, 1.560e+02, 5.500e+01, 2.200e+01, 1.600e+01, 1.000e+01,\n",
       "        9.000e+00, 5.000e+00, 8.000e+00, 7.000e+00, 3.000e+00, 3.000e+00,\n",
       "        4.000e+00, 5.000e+00, 1.000e+00, 7.000e+00, 5.000e+00, 0.000e+00,\n",
       "        2.000e+00, 2.000e+00, 1.000e+00, 2.000e+00, 1.000e+00, 0.000e+00,\n",
       "        1.000e+00, 0.000e+00, 0.000e+00, 0.000e+00, 1.000e+00, 0.000e+00,\n",
       "        0.000e+00, 2.000e+00, 0.000e+00, 0.000e+00, 0.000e+00, 0.000e+00,\n",
       "        0.000e+00, 0.000e+00, 0.000e+00, 0.000e+00, 0.000e+00, 0.000e+00,\n",
       "        0.000e+00, 0.000e+00, 0.000e+00, 0.000e+00, 0.000e+00, 0.000e+00,\n",
       "        0.000e+00, 1.000e+00]),\n",
       " array([   7.3  ,   59.834,  112.368,  164.902,  217.436,  269.97 ,\n",
       "         322.504,  375.038,  427.572,  480.106,  532.64 ,  585.174,\n",
       "         637.708,  690.242,  742.776,  795.31 ,  847.844,  900.378,\n",
       "         952.912, 1005.446, 1057.98 , 1110.514, 1163.048, 1215.582,\n",
       "        1268.116, 1320.65 , 1373.184, 1425.718, 1478.252, 1530.786,\n",
       "        1583.32 , 1635.854, 1688.388, 1740.922, 1793.456, 1845.99 ,\n",
       "        1898.524, 1951.058, 2003.592, 2056.126, 2108.66 , 2161.194,\n",
       "        2213.728, 2266.262, 2318.796, 2371.33 , 2423.864, 2476.398,\n",
       "        2528.932, 2581.466, 2634.   ]),\n",
       " <BarContainer object of 50 artists>)"
      ]
     },
     "execution_count": 33,
     "metadata": {},
     "output_type": "execute_result"
    },
    {
     "data": {
      "image/png": "[encoded data removed]",
      "text/plain": [
       "<Figure size 432x288 with 1 Axes>"
      ]
     },
     "metadata": {
      "needs_background": "light"
     },
     "output_type": "display_data"
    }
   ],
   "source": [
    "plt.hist(df['W'], color = 'blue', edgecolor = 'black',\n",
    "         bins = int(50))"
   ]
  },
  {
   "cell_type": "markdown",
   "metadata": {},
   "source": [
    "Show paintings with a width under 50cm and height under 50 cm."
   ]
  },
  {
   "cell_type": "code",
   "execution_count": 4,
   "metadata": {},
   "outputs": [
    {
     "name": "stdout",
     "output_type": "stream",
     "text": [
      "                              Title     W     H\n",
      "0                              溪山行旅  25.5  23.9\n",
      "6                               寒塘圖  25.7  24.6\n",
      "10    Mountain Terrace and Pavilion  24.6  24.6\n",
      "11                     Winter Scene  24.0  24.0\n",
      "12                              戲猿圖  26.5  24.8\n",
      "...                             ...   ...   ...\n",
      "1450                           楊柳乳雀  24.8  24.8\n",
      "1451                             梅雀  29.0  25.5\n",
      "1452                           竹樹馴雀  24.8  24.8\n",
      "1453                           山茶宿鳥  25.6  24.3\n",
      "1462                           嫩柳栖鴉  25.4  24.3\n",
      "\n",
      "[655 rows x 3 columns]\n"
     ]
    }
   ],
   "source": [
    "df2 = df[df['W'] <= 50] \n",
    "df3 = df2[df2['H'] <= 50]\n",
    "print (df3[['Title','W','H']])"
   ]
  },
  {
   "cell_type": "code",
   "execution_count": null,
   "metadata": {},
   "outputs": [],
   "source": []
  },
  {
   "cell_type": "code",
   "execution_count": 5,
   "metadata": {},
   "outputs": [
    {
     "name": "stdout",
     "output_type": "stream",
     "text": [
      "    ID                          Title Dynasty Artist        Format Material  \\\n",
      "1    2                         瀟湘八景圖1     SS2   傳 王洪  handscroll 卷  Silk 絹本   \n",
      "10  11  Mountain Terrace and Pavilion     NaN     佚名   squarish 方幅  Silk 絹本   \n",
      "\n",
      "       H     W        A Size                              Institute  \\\n",
      "1   23.4  90.7  2122.38    M  Art Museum, Princeton University, USA   \n",
      "10  24.6  24.6   605.16    S           Cleveland Museum of Art, USA   \n",
      "\n",
      "   Nationality          Source Note Seals and Inscriptions      Set  \\\n",
      "1          USA      宋畫全集第六卷第六冊  NaN                    NaN  瀟湘八景圖四段   \n",
      "10         USA  Museum Website  NaN                    NaN      NaN   \n",
      "\n",
      "            Tag1 Tag2 Tag3 Tag4  \n",
      "1            NaN  NaN  NaN  NaN  \n",
      "10  architecture  NaN  NaN  NaN  \n"
     ]
    }
   ],
   "source": [
    "df3 = df.loc[[1,10]]\n",
    "print(df3)"
   ]
  },
  {
   "cell_type": "code",
   "execution_count": 6,
   "metadata": {},
   "outputs": [
    {
     "name": "stdout",
     "output_type": "stream",
     "text": [
      "瀟湘八景圖4\n"
     ]
    }
   ],
   "source": [
    "df4 = df.iloc[4, 1]\n",
    "print (df4)"
   ]
  },
  {
   "cell_type": "code",
   "execution_count": 7,
   "metadata": {},
   "outputs": [
    {
     "name": "stdout",
     "output_type": "stream",
     "text": [
      "       Title Size\n",
      "0       溪山行旅    S\n",
      "1     瀟湘八景圖1    M\n",
      "2     瀟湘八景圖2    M\n",
      "3     瀟湘八景圖3    M\n",
      "4     瀟湘八景圖4    M\n",
      "...      ...  ...\n",
      "1458  宋寧宗后坐像    L\n",
      "1459   宋理宗坐像    L\n",
      "1460     畫羅漢  NaN\n",
      "1461     赤壁圖    L\n",
      "1462    嫩柳栖鴉    S\n",
      "\n",
      "[1463 rows x 2 columns]\n"
     ]
    }
   ],
   "source": [
    "y = df[['Title','Size']]\n",
    "print (y)"
   ]
  },
  {
   "cell_type": "code",
   "execution_count": 8,
   "metadata": {},
   "outputs": [
    {
     "name": "stdout",
     "output_type": "stream",
     "text": [
      "       Title      W      H\n",
      "0       溪山行旅   25.5   23.9\n",
      "1     瀟湘八景圖1   90.7   23.4\n",
      "2     瀟湘八景圖2   90.7   23.4\n",
      "3     瀟湘八景圖3   90.7   23.4\n",
      "4     瀟湘八景圖4   90.7   23.4\n",
      "...      ...    ...    ...\n",
      "1458  宋寧宗后坐像  112.8  160.3\n",
      "1459   宋理宗坐像  108.5  189.0\n",
      "1460     畫羅漢    NaN    NaN\n",
      "1461     赤壁圖  136.4   50.8\n",
      "1462    嫩柳栖鴉   25.4   24.3\n",
      "\n",
      "[1463 rows x 3 columns]\n"
     ]
    }
   ],
   "source": [
    "df1 = df[['Title',\"W\",\"H\"]]\n",
    "print (df1)"
   ]
  },
  {
   "cell_type": "code",
   "execution_count": null,
   "metadata": {},
   "outputs": [],
   "source": []
  }
 ],
 "metadata": {
  "kernelspec": {
   "display_name": "Python 3",
   "language": "python",
   "name": "python3"
  },
  "language_info": {
   "codemirror_mode": {
    "name": "ipython",
    "version": 3
   },
   "file_extension": ".py",
   "mimetype": "text/x-python",
   "name": "python",
   "nbconvert_exporter": "python",
   "pygments_lexer": "ipython3",
   "version": "3.8.8"
  }
 },
 "nbformat": 4,
 "nbformat_minor": 4
}
