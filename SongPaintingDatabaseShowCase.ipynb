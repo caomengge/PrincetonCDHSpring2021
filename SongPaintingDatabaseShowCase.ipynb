{
 "cells": [
  {
   "cell_type": "markdown",
   "metadata": {},
   "source": [
    "# Song Dynasty Paintings Database Showcase"
   ]
  },
  {
   "cell_type": "markdown",
   "metadata": {},
   "source": [
    "Last updated July 28th 2021"
   ]
  },
  {
   "cell_type": "markdown",
   "metadata": {},
   "source": [
    "## Total entries in the database"
   ]
  },
  {
   "cell_type": "code",
   "execution_count": 44,
   "metadata": {},
   "outputs": [
    {
     "name": "stdout",
     "output_type": "stream",
     "text": [
      "1463\n"
     ]
    }
   ],
   "source": [
    "import pandas as pd\n",
    "import matplotlib.pyplot as plt\n",
    "\n",
    "csv_path=\"https://raw.githubusercontent.com/caomengge/Song-Dynasty-Paintings-Database/master/SongPaintingData_APR15.csv\"\n",
    "df=pd.read_csv(csv_path)\n",
    "print(len(df))"
   ]
  },
  {
   "cell_type": "markdown",
   "metadata": {},
   "source": [
    "## Database overview"
   ]
  },
  {
   "cell_type": "code",
   "execution_count": 45,
   "metadata": {},
   "outputs": [
    {
     "name": "stdout",
     "output_type": "stream",
     "text": [
      "   ID     Title Dynasty Artist            Format Material      H      W  \\\n",
      "0   1      溪山行旅     SS2   傳 范寬       squarish 方幅  Silk 絹本   23.9   25.5   \n",
      "1   2    瀟湘八景圖1     SS2   傳 王洪      handscroll 卷  Silk 絹本   23.4   90.7   \n",
      "2   3    瀟湘八景圖2     SS2   傳 王洪      handscroll 卷  Silk 絹本   23.4   90.7   \n",
      "3   4    瀟湘八景圖3     SS2   傳 王洪      handscroll 卷  Silk 絹本   23.4   90.7   \n",
      "4   5    瀟湘八景圖4     SS2   傳 王洪      handscroll 卷  Silk 絹本   23.4   90.7   \n",
      "5   6       山水圖     NS2    李公年  hanging scroll 軸  Silk 絹本  130.0   48.4   \n",
      "6   7       寒塘圖     SS2     梁楷       squarish 方幅  Silk 絹本   24.6   25.7   \n",
      "7   8  仿周文矩 宮中圖     NaN     佚名      handscroll 卷  Silk 絹本   25.7  177.0   \n",
      "8   9      山水舟遊     SS2   傳　馬遠  hanging scroll 軸  Silk 絹本  172.5   85.2   \n",
      "9  10       陳風圖     SS2  傳　馬和之      handscroll 卷  Silk 絹本   26.7  739.0   \n",
      "\n",
      "          A Size                                          Institute  \\\n",
      "0    609.45    S              Art Museum, Princeton University, USA   \n",
      "1   2122.38    M              Art Museum, Princeton University, USA   \n",
      "2   2122.38    M              Art Museum, Princeton University, USA   \n",
      "3   2122.38    M              Art Museum, Princeton University, USA   \n",
      "4   2122.38    M              Art Museum, Princeton University, USA   \n",
      "5   6292.00    L              Art Museum, Princeton University, USA   \n",
      "6    632.22    S  Arthur M. Sackler Museum / Harvard University ...   \n",
      "7   4548.90    L  Arthur M. Sackler Museum / Harvard University ...   \n",
      "8  14697.00    L                                 British Museum, GB   \n",
      "9  19731.30   XL                                 British Museum, GB   \n",
      "\n",
      "  Nationality          Source Note Seals and Inscriptions      Set       Tag1  \\\n",
      "0         USA  Museum Website  NaN                    NaN      NaN  landscape   \n",
      "1         USA      宋畫全集第六卷第六冊  NaN                    NaN  瀟湘八景圖四段        NaN   \n",
      "2         USA      宋畫全集第六卷第六冊  NaN                    NaN  瀟湘八景圖四段        NaN   \n",
      "3         USA      宋畫全集第六卷第六冊  NaN                    NaN  瀟湘八景圖四段        NaN   \n",
      "4         USA      宋畫全集第六卷第六冊  NaN                    NaN  瀟湘八景圖四段        NaN   \n",
      "5         USA      宋畫全集第六卷第六冊  NaN                    NaN      NaN        NaN   \n",
      "6         USA      宋畫全集第六卷第六冊  NaN                    NaN      NaN  landscape   \n",
      "7         USA      宋畫全集第六卷第六冊  NaN                    NaN      NaN        NaN   \n",
      "8          EU      宋畫全集第六卷第六冊  NaN                    NaN      NaN        NaN   \n",
      "9          EU      宋畫全集第六卷第六冊  NaN                    NaN      NaN        NaN   \n",
      "\n",
      "  Tag2    Tag3 Tag4  \n",
      "0  NaN  figure  NaN  \n",
      "1  NaN     NaN  NaN  \n",
      "2  NaN     NaN  NaN  \n",
      "3  NaN     NaN  NaN  \n",
      "4  NaN     NaN  NaN  \n",
      "5  NaN     NaN  NaN  \n",
      "6  NaN     NaN  NaN  \n",
      "7  NaN     NaN  NaN  \n",
      "8  NaN     NaN  NaN  \n",
      "9  NaN     NaN  NaN  \n"
     ]
    }
   ],
   "source": [
    "print(df.head(10))"
   ]
  },
  {
   "cell_type": "markdown",
   "metadata": {},
   "source": [
    "## Frequency distribution of painting area"
   ]
  },
  {
   "cell_type": "code",
   "execution_count": 46,
   "metadata": {},
   "outputs": [
    {
     "data": {
      "text/plain": [
       "(array([ 32.,   5., 100., 313.,  50.,  30.,  30.,  28.,  61.,   8.,  15.,\n",
       "         12.,  13.,  35.,  12.,   6.,   9.,  11.,  14.,   5.,  10.,   3.,\n",
       "          7.,   4.,   5.,   9.,  18.,  15.,  20.,   3.,   6.,   3.,   3.,\n",
       "          6.,   9.,   5.,  13.,   9.,  20.,   8.,  91.,  16.,   6.,  15.,\n",
       "          4.,   6.,   5.,   8.,   9.,   2.,   2.,   7.,   4.,   1.,   1.,\n",
       "          2.,   2.,   7.,   2.,   0.,   0.,   4.,   1.,   2.,   2.,   0.,\n",
       "          3.,   1.,   3.,   2.,   0.,   1.,   3.,   1.,   2.,   0.,   3.,\n",
       "          1.,   2.,   2.,   0.,   1.,   2.,   1.,   0.,   2.,   2.,   2.,\n",
       "          2.,   2.,   4.,   3.,   3.,   0.,   0.,   3.,   1.,   1.,   0.,\n",
       "          1.,   2.,   3.,   0.,   2.,   1.,   0.,   2.,   1.,   1.,   2.,\n",
       "          1.,   1.,   3.,   1.,   1.,   2.,   0.,   2.,   1.,   6.,   0.,\n",
       "          1.,   2.,   2.,   1.,   2.,   1.,   0.,   1.,   1.,   0.,   0.,\n",
       "          2.,   1.,   0.,   2.,   4.,   4.,   4.,   3.,   1.,   2.,   1.,\n",
       "          0.,   2.,   1.,   0.,   3.,   1.,   1.,   1.,   0.,   1.,   1.,\n",
       "          0.,   0.,   0.,   1.,   1.,   0.,   0.,   0.,   1.,   0.,   0.,\n",
       "          0.,   0.,   3.,   1.,   0.,   0.,   0.,   1.,   0.,   1.,   0.,\n",
       "          0.,   0.,   0.,   0.,   0.,   0.,   1.,   1.,   0.,   0.,   1.,\n",
       "          0.,   1.,   0.,   0.,   5.,   0.,   2.,   0.,   0.,   3.,   0.,\n",
       "          0.,   0.,   0.,   0.,   0.,   1.,   0.,   0.,   1.,   0.,   0.,\n",
       "          0.,   0.,   1.,   0.,   0.,   0.,   0.,   0.,   0.,   0.,   0.,\n",
       "          0.,   0.,   0.,   1.,   1.,   0.,   0.,   0.,   0.,   0.,   0.,\n",
       "          0.,   0.,   0.,   0.,   0.,   0.,   0.,   0.,   0.,   0.,   0.,\n",
       "          0.,   0.,   0.,   1.,   0.,   0.,   0.,   1.,   0.,   0.,   0.,\n",
       "          0.,   0.,   0.,   1.,   0.,   0.,   0.,   0.,   0.,   0.,   0.,\n",
       "          0.,   0.,   0.,   0.,   0.,   0.,   0.,   0.,   0.,   0.,   0.,\n",
       "          2.,   0.,   0.,   0.,   0.,   0.,   0.,   0.,   0.,   0.,   0.,\n",
       "          1.,   0.,   0.,   0.,   0.,   0.,   1.,   0.,   0.,   0.,   0.,\n",
       "          0.,   0.,   0.,   0.,   0.,   0.,   0.,   0.,   0.,   1.,   0.,\n",
       "          0.,   0.,   1.,   0.,   0.,   1.,   1.,   0.,   0.,   0.,   0.,\n",
       "          0.,   0.,   0.,   0.,   0.,   0.,   0.,   0.,   0.,   0.,   0.,\n",
       "          0.,   0.,   0.,   0.,   0.,   0.,   0.,   0.,   0.,   0.,   0.,\n",
       "          0.,   0.,   0.,   0.,   0.,   0.,   0.,   0.,   0.,   0.,   0.,\n",
       "          0.,   0.,   0.,   0.,   0.,   0.,   0.,   0.,   0.,   0.,   0.,\n",
       "          0.,   1.,   0.,   0.,   0.,   0.,   0.,   0.,   0.,   0.,   0.,\n",
       "          0.,   0.,   0.,   0.,   0.,   0.,   0.,   0.,   0.,   0.,   0.,\n",
       "          0.,   0.,   0.,   0.,   0.,   0.,   0.,   0.,   0.,   0.,   0.,\n",
       "          0.,   0.,   0.,   0.,   0.,   0.,   0.,   0.,   0.,   0.,   0.,\n",
       "          0.,   0.,   0.,   1.,   0.,   0.,   0.,   0.,   0.,   0.,   0.,\n",
       "          0.,   0.,   0.,   0.,   1.,   0.,   0.,   0.,   0.,   0.,   0.,\n",
       "          0.,   0.,   0.,   0.,   0.,   0.,   0.,   0.,   0.,   0.,   0.,\n",
       "          0.,   0.,   1.,   0.,   0.,   0.,   0.,   0.,   0.,   0.,   0.,\n",
       "          0.,   0.,   0.,   0.,   0.,   0.,   0.,   0.,   0.,   0.,   0.,\n",
       "          0.,   0.,   0.,   0.,   0.,   0.,   0.,   0.,   0.,   0.,   0.,\n",
       "          0.,   0.,   0.,   0.,   0.,   0.,   0.,   0.,   0.,   0.,   0.,\n",
       "          0.,   0.,   0.,   0.,   0.,   0.,   0.,   0.,   0.,   0.,   0.,\n",
       "          0.,   0.,   0.,   0.,   1.]),\n",
       " array([  134.9   ,   278.7544,   422.6088,   566.4632,   710.3176,\n",
       "          854.172 ,   998.0264,  1141.8808,  1285.7352,  1429.5896,\n",
       "         1573.444 ,  1717.2984,  1861.1528,  2005.0072,  2148.8616,\n",
       "         2292.716 ,  2436.5704,  2580.4248,  2724.2792,  2868.1336,\n",
       "         3011.988 ,  3155.8424,  3299.6968,  3443.5512,  3587.4056,\n",
       "         3731.26  ,  3875.1144,  4018.9688,  4162.8232,  4306.6776,\n",
       "         4450.532 ,  4594.3864,  4738.2408,  4882.0952,  5025.9496,\n",
       "         5169.804 ,  5313.6584,  5457.5128,  5601.3672,  5745.2216,\n",
       "         5889.076 ,  6032.9304,  6176.7848,  6320.6392,  6464.4936,\n",
       "         6608.348 ,  6752.2024,  6896.0568,  7039.9112,  7183.7656,\n",
       "         7327.62  ,  7471.4744,  7615.3288,  7759.1832,  7903.0376,\n",
       "         8046.892 ,  8190.7464,  8334.6008,  8478.4552,  8622.3096,\n",
       "         8766.164 ,  8910.0184,  9053.8728,  9197.7272,  9341.5816,\n",
       "         9485.436 ,  9629.2904,  9773.1448,  9916.9992, 10060.8536,\n",
       "        10204.708 , 10348.5624, 10492.4168, 10636.2712, 10780.1256,\n",
       "        10923.98  , 11067.8344, 11211.6888, 11355.5432, 11499.3976,\n",
       "        11643.252 , 11787.1064, 11930.9608, 12074.8152, 12218.6696,\n",
       "        12362.524 , 12506.3784, 12650.2328, 12794.0872, 12937.9416,\n",
       "        13081.796 , 13225.6504, 13369.5048, 13513.3592, 13657.2136,\n",
       "        13801.068 , 13944.9224, 14088.7768, 14232.6312, 14376.4856,\n",
       "        14520.34  , 14664.1944, 14808.0488, 14951.9032, 15095.7576,\n",
       "        15239.612 , 15383.4664, 15527.3208, 15671.1752, 15815.0296,\n",
       "        15958.884 , 16102.7384, 16246.5928, 16390.4472, 16534.3016,\n",
       "        16678.156 , 16822.0104, 16965.8648, 17109.7192, 17253.5736,\n",
       "        17397.428 , 17541.2824, 17685.1368, 17828.9912, 17972.8456,\n",
       "        18116.7   , 18260.5544, 18404.4088, 18548.2632, 18692.1176,\n",
       "        18835.972 , 18979.8264, 19123.6808, 19267.5352, 19411.3896,\n",
       "        19555.244 , 19699.0984, 19842.9528, 19986.8072, 20130.6616,\n",
       "        20274.516 , 20418.3704, 20562.2248, 20706.0792, 20849.9336,\n",
       "        20993.788 , 21137.6424, 21281.4968, 21425.3512, 21569.2056,\n",
       "        21713.06  , 21856.9144, 22000.7688, 22144.6232, 22288.4776,\n",
       "        22432.332 , 22576.1864, 22720.0408, 22863.8952, 23007.7496,\n",
       "        23151.604 , 23295.4584, 23439.3128, 23583.1672, 23727.0216,\n",
       "        23870.876 , 24014.7304, 24158.5848, 24302.4392, 24446.2936,\n",
       "        24590.148 , 24734.0024, 24877.8568, 25021.7112, 25165.5656,\n",
       "        25309.42  , 25453.2744, 25597.1288, 25740.9832, 25884.8376,\n",
       "        26028.692 , 26172.5464, 26316.4008, 26460.2552, 26604.1096,\n",
       "        26747.964 , 26891.8184, 27035.6728, 27179.5272, 27323.3816,\n",
       "        27467.236 , 27611.0904, 27754.9448, 27898.7992, 28042.6536,\n",
       "        28186.508 , 28330.3624, 28474.2168, 28618.0712, 28761.9256,\n",
       "        28905.78  , 29049.6344, 29193.4888, 29337.3432, 29481.1976,\n",
       "        29625.052 , 29768.9064, 29912.7608, 30056.6152, 30200.4696,\n",
       "        30344.324 , 30488.1784, 30632.0328, 30775.8872, 30919.7416,\n",
       "        31063.596 , 31207.4504, 31351.3048, 31495.1592, 31639.0136,\n",
       "        31782.868 , 31926.7224, 32070.5768, 32214.4312, 32358.2856,\n",
       "        32502.14  , 32645.9944, 32789.8488, 32933.7032, 33077.5576,\n",
       "        33221.412 , 33365.2664, 33509.1208, 33652.9752, 33796.8296,\n",
       "        33940.684 , 34084.5384, 34228.3928, 34372.2472, 34516.1016,\n",
       "        34659.956 , 34803.8104, 34947.6648, 35091.5192, 35235.3736,\n",
       "        35379.228 , 35523.0824, 35666.9368, 35810.7912, 35954.6456,\n",
       "        36098.5   , 36242.3544, 36386.2088, 36530.0632, 36673.9176,\n",
       "        36817.772 , 36961.6264, 37105.4808, 37249.3352, 37393.1896,\n",
       "        37537.044 , 37680.8984, 37824.7528, 37968.6072, 38112.4616,\n",
       "        38256.316 , 38400.1704, 38544.0248, 38687.8792, 38831.7336,\n",
       "        38975.588 , 39119.4424, 39263.2968, 39407.1512, 39551.0056,\n",
       "        39694.86  , 39838.7144, 39982.5688, 40126.4232, 40270.2776,\n",
       "        40414.132 , 40557.9864, 40701.8408, 40845.6952, 40989.5496,\n",
       "        41133.404 , 41277.2584, 41421.1128, 41564.9672, 41708.8216,\n",
       "        41852.676 , 41996.5304, 42140.3848, 42284.2392, 42428.0936,\n",
       "        42571.948 , 42715.8024, 42859.6568, 43003.5112, 43147.3656,\n",
       "        43291.22  , 43435.0744, 43578.9288, 43722.7832, 43866.6376,\n",
       "        44010.492 , 44154.3464, 44298.2008, 44442.0552, 44585.9096,\n",
       "        44729.764 , 44873.6184, 45017.4728, 45161.3272, 45305.1816,\n",
       "        45449.036 , 45592.8904, 45736.7448, 45880.5992, 46024.4536,\n",
       "        46168.308 , 46312.1624, 46456.0168, 46599.8712, 46743.7256,\n",
       "        46887.58  , 47031.4344, 47175.2888, 47319.1432, 47462.9976,\n",
       "        47606.852 , 47750.7064, 47894.5608, 48038.4152, 48182.2696,\n",
       "        48326.124 , 48469.9784, 48613.8328, 48757.6872, 48901.5416,\n",
       "        49045.396 , 49189.2504, 49333.1048, 49476.9592, 49620.8136,\n",
       "        49764.668 , 49908.5224, 50052.3768, 50196.2312, 50340.0856,\n",
       "        50483.94  , 50627.7944, 50771.6488, 50915.5032, 51059.3576,\n",
       "        51203.212 , 51347.0664, 51490.9208, 51634.7752, 51778.6296,\n",
       "        51922.484 , 52066.3384, 52210.1928, 52354.0472, 52497.9016,\n",
       "        52641.756 , 52785.6104, 52929.4648, 53073.3192, 53217.1736,\n",
       "        53361.028 , 53504.8824, 53648.7368, 53792.5912, 53936.4456,\n",
       "        54080.3   , 54224.1544, 54368.0088, 54511.8632, 54655.7176,\n",
       "        54799.572 , 54943.4264, 55087.2808, 55231.1352, 55374.9896,\n",
       "        55518.844 , 55662.6984, 55806.5528, 55950.4072, 56094.2616,\n",
       "        56238.116 , 56381.9704, 56525.8248, 56669.6792, 56813.5336,\n",
       "        56957.388 , 57101.2424, 57245.0968, 57388.9512, 57532.8056,\n",
       "        57676.66  , 57820.5144, 57964.3688, 58108.2232, 58252.0776,\n",
       "        58395.932 , 58539.7864, 58683.6408, 58827.4952, 58971.3496,\n",
       "        59115.204 , 59259.0584, 59402.9128, 59546.7672, 59690.6216,\n",
       "        59834.476 , 59978.3304, 60122.1848, 60266.0392, 60409.8936,\n",
       "        60553.748 , 60697.6024, 60841.4568, 60985.3112, 61129.1656,\n",
       "        61273.02  , 61416.8744, 61560.7288, 61704.5832, 61848.4376,\n",
       "        61992.292 , 62136.1464, 62280.0008, 62423.8552, 62567.7096,\n",
       "        62711.564 , 62855.4184, 62999.2728, 63143.1272, 63286.9816,\n",
       "        63430.836 , 63574.6904, 63718.5448, 63862.3992, 64006.2536,\n",
       "        64150.108 , 64293.9624, 64437.8168, 64581.6712, 64725.5256,\n",
       "        64869.38  , 65013.2344, 65157.0888, 65300.9432, 65444.7976,\n",
       "        65588.652 , 65732.5064, 65876.3608, 66020.2152, 66164.0696,\n",
       "        66307.924 , 66451.7784, 66595.6328, 66739.4872, 66883.3416,\n",
       "        67027.196 , 67171.0504, 67314.9048, 67458.7592, 67602.6136,\n",
       "        67746.468 , 67890.3224, 68034.1768, 68178.0312, 68321.8856,\n",
       "        68465.74  , 68609.5944, 68753.4488, 68897.3032, 69041.1576,\n",
       "        69185.012 , 69328.8664, 69472.7208, 69616.5752, 69760.4296,\n",
       "        69904.284 , 70048.1384, 70191.9928, 70335.8472, 70479.7016,\n",
       "        70623.556 , 70767.4104, 70911.2648, 71055.1192, 71198.9736,\n",
       "        71342.828 , 71486.6824, 71630.5368, 71774.3912, 71918.2456,\n",
       "        72062.1   ]),\n",
       " <BarContainer object of 500 artists>)"
      ]
     },
     "execution_count": 46,
     "metadata": {},
     "output_type": "execute_result"
    },
    {
     "data": {
      "image/png": "[encoded data removed]",
      "text/plain": [
       "<Figure size 432x288 with 1 Axes>"
      ]
     },
     "metadata": {
      "needs_background": "light"
     },
     "output_type": "display_data"
    }
   ],
   "source": [
    "plt.hist(df['A'], color = 'blue', edgecolor = 'black',\n",
    "         bins = int(500))"
   ]
  },
  {
   "cell_type": "markdown",
   "metadata": {},
   "source": [
    "## Display paintings with both width and height under 55 cm."
   ]
  },
  {
   "cell_type": "code",
   "execution_count": 47,
   "metadata": {
    "scrolled": true
   },
   "outputs": [
    {
     "name": "stdout",
     "output_type": "stream",
     "text": [
      "                              Title     W     H\n",
      "0                              溪山行旅  25.5  23.9\n",
      "6                               寒塘圖  25.7  24.6\n",
      "10    Mountain Terrace and Pavilion  24.6  24.6\n",
      "11                     Winter Scene  24.0  24.0\n",
      "12                              戲猿圖  26.5  24.8\n",
      "...                             ...   ...   ...\n",
      "1450                           楊柳乳雀  24.8  24.8\n",
      "1451                             梅雀  29.0  25.5\n",
      "1452                           竹樹馴雀  24.8  24.8\n",
      "1453                           山茶宿鳥  25.6  24.3\n",
      "1462                           嫩柳栖鴉  25.4  24.3\n",
      "\n",
      "[693 rows x 3 columns]\n"
     ]
    }
   ],
   "source": [
    "df2 = df[df['W'].between (0, 55, inclusive=False)] \n",
    "df3 = df2[df2['H'].between(0,55, inclusive=False)]\n",
    "print (df3[['Title','W','H']])"
   ]
  },
  {
   "cell_type": "code",
   "execution_count": 48,
   "metadata": {},
   "outputs": [
    {
     "name": "stdout",
     "output_type": "stream",
     "text": [
      "                ID           H           W            A\n",
      "count   693.000000  693.000000  693.000000   692.000000\n",
      "mean    597.411255   26.844012   28.421183   793.834451\n",
      "std     401.575805    6.575516    8.587425   393.346744\n",
      "min       1.000000    9.400000    7.300000   134.900000\n",
      "25%     291.000000   23.900000   24.500000   585.020000\n",
      "50%     530.000000   25.000000   25.700000   640.000000\n",
      "75%     811.000000   27.000000   33.700000   970.560000\n",
      "max    1463.000000   54.100000   54.900000  2455.200000\n"
     ]
    }
   ],
   "source": [
    "print(df3.describe())"
   ]
  },
  {
   "cell_type": "code",
   "execution_count": null,
   "metadata": {},
   "outputs": [],
   "source": []
  },
  {
   "cell_type": "code",
   "execution_count": null,
   "metadata": {},
   "outputs": [],
   "source": []
  },
  {
   "cell_type": "code",
   "execution_count": null,
   "metadata": {},
   "outputs": [],
   "source": []
  },
  {
   "cell_type": "code",
   "execution_count": null,
   "metadata": {},
   "outputs": [],
   "source": []
  },
  {
   "cell_type": "code",
   "execution_count": null,
   "metadata": {},
   "outputs": [],
   "source": []
  },
  {
   "cell_type": "code",
   "execution_count": null,
   "metadata": {},
   "outputs": [],
   "source": []
  }
 ],
 "metadata": {
  "kernelspec": {
   "display_name": "Python 3",
   "language": "python",
   "name": "python3"
  },
  "language_info": {
   "codemirror_mode": {
    "name": "ipython",
    "version": 3
   },
   "file_extension": ".py",
   "mimetype": "text/x-python",
   "name": "python",
   "nbconvert_exporter": "python",
   "pygments_lexer": "ipython3",
   "version": "3.8.8"
  }
 },
 "nbformat": 4,
 "nbformat_minor": 4
}
